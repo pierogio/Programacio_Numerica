{
 "cells": [
  {
   "cell_type": "markdown",
   "id": "f2eba69d",
   "metadata": {},
   "source": [
    "- Exercici 1\n",
    "Crea una funció que donat un Array d’una dimensió, et faci un resum estadístic bàsic de les dades. Si detecta que l’array té més d’una dimensió, ha de mostrar un missatge d’error"
   ]
  },
  {
   "cell_type": "code",
   "execution_count": 2,
   "id": "380dccd9",
   "metadata": {},
   "outputs": [
    {
     "data": {
      "text/plain": [
       "'error, el tipo de array es de 2 dimensiones'"
      ]
     },
     "execution_count": 2,
     "metadata": {},
     "output_type": "execute_result"
    }
   ],
   "source": [
    "import numpy as np\n",
    "\n",
    "def array(elem):\n",
    "    arr=np.array(elem)\n",
    "    if arr.ndim !=1:\n",
    "        return f\"error, el tipo de array es de {arr.ndim} dimensiones\"\n",
    "    else:\n",
    "        return f\"el tipo de array es de {arr.ndim} dimension\")\n",
    "\n",
    "\n",
    "array([[1, 2, 3, 4, 5],[3, 5, 2, 6, 9]])"
   ]
  },
  {
   "cell_type": "code",
   "execution_count": 38,
   "id": "ce1ee883",
   "metadata": {},
   "outputs": [
    {
     "name": "stdout",
     "output_type": "stream",
     "text": [
      "Array de 1 dimension.\n",
      "El tipo de dato es int32.\n",
      "La media arítmetica es: 3.0.\n",
      "La varianza es 2.0.\n",
      "La correlación es 1.0.\n",
      "La desciavión es 1.4142135623730951.\n",
      "La covarianza es 2.5.\n"
     ]
    }
   ],
   "source": [
    "import numpy as np\n",
    "\n",
    "def array(elem):\n",
    "    arr=np.array(elem)\n",
    "    if arr.ndim !=1:\n",
    "        return f\"error, el tipo de array es de {arr.ndim} dimensiones\"\n",
    "    else:\n",
    "        return f\"Array de {arr.ndim} dimension.\\n\"\\\n",
    "               f\"El tipo de dato es {arr.dtype}.\\n\"\\\n",
    "               f\"La media arítmetica es: {np.mean(arr)}.\\n\"\\\n",
    "               f\"La varianza es {np.var(arr)}.\\n\"\\\n",
    "               f\"La correlación es {np.corrcoef(arr)}.\\n\"\\\n",
    "               f\"La desciavión es {np.std(arr)}.\\n\"\\\n",
    "               f\"La covarianza es {np.cov(arr)}.\"\n",
    "    \n",
    "    \n",
    "print(array([1, 2, 3, 4, 5]))"
   ]
  },
  {
   "cell_type": "markdown",
   "id": "a53e2c97",
   "metadata": {},
   "source": [
    "- Exercici 2\n",
    "Crea una funció que et generi un quadrat NxN de nombres aleatoris entre el 0 i el 100."
   ]
  },
  {
   "cell_type": "code",
   "execution_count": 50,
   "id": "6175f812",
   "metadata": {},
   "outputs": [
    {
     "data": {
      "text/plain": [
       "array([[71, 27, 86],\n",
       "       [23, 55, 89],\n",
       "       [14, 89, 99]])"
      ]
     },
     "execution_count": 50,
     "metadata": {},
     "output_type": "execute_result"
    }
   ],
   "source": [
    "import numpy as np\n",
    "\n",
    "def aleatoria(ref):\n",
    "    resultado = np.random.randint(100, size=(ref, ref))\n",
    "    return resultado\n",
    "\n",
    "aleatoria(3)"
   ]
  },
  {
   "cell_type": "markdown",
   "id": "fc534b2a",
   "metadata": {},
   "source": [
    "- Exercici 3\n",
    "Crea una funció que donada una taula de dues dimensions (NxM), et calculi els totals per fila i els totals per columna."
   ]
  },
  {
   "cell_type": "code",
   "execution_count": 10,
   "id": "655d45c5",
   "metadata": {},
   "outputs": [
    {
     "data": {
      "text/plain": [
       "'la suma de los valores de las columnas es [ 4  7  5 10 14] y la suma de valores de las filas es [15 25]'"
      ]
     },
     "execution_count": 10,
     "metadata": {},
     "output_type": "execute_result"
    }
   ],
   "source": [
    "import numpy as np\n",
    "\n",
    "def totales(elem):\n",
    "    arr = np.array(elem)\n",
    "    return f\"la suma de los valores de las columnas es {np.sum(arr, axis=0)} y la suma de valores de las filas es {np.sum(arr, axis=1)}\"\n",
    "\n",
    "totales([[1, 2, 3, 4, 5],[3, 5, 2, 6, 9]])"
   ]
  },
  {
   "cell_type": "markdown",
   "id": "31b1251f",
   "metadata": {},
   "source": [
    "- Exercici 4\n",
    "Implementa manualment una funció que calculi el coeficient de correlació. Informa-te'n sobre els seus usos i interpretació."
   ]
  },
  {
   "cell_type": "code",
   "execution_count": 8,
   "id": "509a0000",
   "metadata": {},
   "outputs": [
    {
     "data": {
      "text/plain": [
       "0.993399267798783"
      ]
     },
     "execution_count": 8,
     "metadata": {},
     "output_type": "execute_result"
    }
   ],
   "source": [
    "import numpy as np\n",
    "\n",
    "def correlacion(v1,v2):\n",
    "    x = np.array(v1)\n",
    "    y = np.array(v2)\n",
    "\n",
    "    #medias aritmeticas x e y\n",
    "    media_x=np.mean(x)\n",
    "    media_y=np.mean(y)\n",
    "\n",
    "    #suma de multiplicación de x e y\n",
    "    suma_xy=np.sum(np.multiply(x,y))\n",
    "    \n",
    "    #covarianza\n",
    "    covarianza=(suma_xy/len(x))-(media_x*media_y)\n",
    "    \n",
    "    #desviacion x\n",
    "    suma_elevacion_x=np.sum(np.power(x,2))\n",
    "    desviacion_x=np.sqrt((suma_elevacion_x/len(x))-media_x**2)\n",
    "    \n",
    "    #desviacion y\n",
    "    suma_elevacion_y=np.sum(np.power(y,2))\n",
    "    desviacion_y=np.sqrt((suma_elevacion_y/len(y))-media_y**2)\n",
    "    \n",
    "    #coeficiente correlación\n",
    "    r=covarianza/(desviacion_x*desviacion_y)\n",
    "\n",
    "    return r  \n",
    "\n",
    "correlacion([1, 2, 3, 4, 5],[2, 4, 5, 7, 8])"
   ]
  },
  {
   "cell_type": "code",
   "execution_count": null,
   "id": "bea85c6c",
   "metadata": {},
   "outputs": [],
   "source": []
  }
 ],
 "metadata": {
  "kernelspec": {
   "display_name": "Python 3 (ipykernel)",
   "language": "python",
   "name": "python3"
  },
  "language_info": {
   "codemirror_mode": {
    "name": "ipython",
    "version": 3
   },
   "file_extension": ".py",
   "mimetype": "text/x-python",
   "name": "python",
   "nbconvert_exporter": "python",
   "pygments_lexer": "ipython3",
   "version": "3.9.16"
  }
 },
 "nbformat": 4,
 "nbformat_minor": 5
}
